{
 "cells": [
  {
   "cell_type": "code",
   "execution_count": 1,
   "id": "cb8870ee",
   "metadata": {},
   "outputs": [
    {
     "name": "stdout",
     "output_type": "stream",
     "text": [
      "Requirement already satisfied: xgboost in c:\\users\\shilp\\anaconda3\\envs\\symbihello\\lib\\site-packages (1.5.2)\n",
      "Requirement already satisfied: scipy in c:\\users\\shilp\\anaconda3\\envs\\symbihello\\lib\\site-packages (from xgboost) (1.7.1)\n",
      "Requirement already satisfied: numpy in c:\\users\\shilp\\anaconda3\\envs\\symbihello\\lib\\site-packages (from xgboost) (1.21.2)\n",
      "Note: you may need to restart the kernel to use updated packages.\n"
     ]
    }
   ],
   "source": [
    "pip install xgboost"
   ]
  },
  {
   "cell_type": "code",
   "execution_count": 2,
   "id": "ecae5143",
   "metadata": {},
   "outputs": [
    {
     "name": "stdout",
     "output_type": "stream",
     "text": [
      "Requirement already satisfied: lightgbm in c:\\users\\shilp\\anaconda3\\envs\\symbihello\\lib\\site-packages (3.3.2)\n",
      "Requirement already satisfied: scipy in c:\\users\\shilp\\anaconda3\\envs\\symbihello\\lib\\site-packages (from lightgbm) (1.7.1)\n",
      "Requirement already satisfied: numpy in c:\\users\\shilp\\anaconda3\\envs\\symbihello\\lib\\site-packages (from lightgbm) (1.21.2)\n",
      "Requirement already satisfied: wheel in c:\\users\\shilp\\anaconda3\\envs\\symbihello\\lib\\site-packages (from lightgbm) (0.37.0)\n",
      "Requirement already satisfied: scikit-learn!=0.22.0 in c:\\users\\shilp\\anaconda3\\envs\\symbihello\\lib\\site-packages (from lightgbm) (1.0.1)\n",
      "Requirement already satisfied: joblib>=0.11 in c:\\users\\shilp\\anaconda3\\envs\\symbihello\\lib\\site-packages (from scikit-learn!=0.22.0->lightgbm) (1.1.0)\n",
      "Requirement already satisfied: threadpoolctl>=2.0.0 in c:\\users\\shilp\\anaconda3\\envs\\symbihello\\lib\\site-packages (from scikit-learn!=0.22.0->lightgbm) (2.2.0)\n",
      "Note: you may need to restart the kernel to use updated packages.\n"
     ]
    }
   ],
   "source": [
    "pip install lightgbm\n"
   ]
  },
  {
   "cell_type": "code",
   "execution_count": 3,
   "id": "8a787af5",
   "metadata": {},
   "outputs": [],
   "source": [
    "import pandas as pd\n",
    "import numpy as np\n",
    "import seaborn as sn\n",
    "import matplotlib.pyplot as plt\n",
    "from sklearn.model_selection import train_test_split\n",
    "from sklearn import tree\n",
    "from sklearn.tree import DecisionTreeClassifier\n",
    "from sklearn.ensemble import RandomForestClassifier\n",
    "from sklearn.metrics import classification_report\n",
    "from imblearn.over_sampling import SMOTE\n",
    "from sklearn.linear_model import LinearRegression\n",
    "import imblearn\n",
    "from sklearn.linear_model import LogisticRegression\n",
    "from sklearn.datasets import make_regression\n",
    "import lightgbm as lgb\n"
   ]
  },
  {
   "cell_type": "code",
   "execution_count": 4,
   "id": "14eede85",
   "metadata": {},
   "outputs": [],
   "source": [
    "grid_df=pd.read_csv(\"Data_for_UCI_named.csv\")"
   ]
  },
  {
   "cell_type": "code",
   "execution_count": 5,
   "id": "300ed05e",
   "metadata": {},
   "outputs": [],
   "source": [
    "grid_df=grid_df.drop(['stab'],axis=1)"
   ]
  },
  {
   "cell_type": "code",
   "execution_count": 6,
   "id": "f3da01aa",
   "metadata": {},
   "outputs": [
    {
     "data": {
      "text/html": [
       "<div>\n",
       "<style scoped>\n",
       "    .dataframe tbody tr th:only-of-type {\n",
       "        vertical-align: middle;\n",
       "    }\n",
       "\n",
       "    .dataframe tbody tr th {\n",
       "        vertical-align: top;\n",
       "    }\n",
       "\n",
       "    .dataframe thead th {\n",
       "        text-align: right;\n",
       "    }\n",
       "</style>\n",
       "<table border=\"1\" class=\"dataframe\">\n",
       "  <thead>\n",
       "    <tr style=\"text-align: right;\">\n",
       "      <th></th>\n",
       "      <th>tau1</th>\n",
       "      <th>tau2</th>\n",
       "      <th>tau3</th>\n",
       "      <th>tau4</th>\n",
       "      <th>p1</th>\n",
       "      <th>p2</th>\n",
       "      <th>p3</th>\n",
       "      <th>p4</th>\n",
       "      <th>g1</th>\n",
       "      <th>g2</th>\n",
       "      <th>g3</th>\n",
       "      <th>g4</th>\n",
       "      <th>stabf</th>\n",
       "    </tr>\n",
       "  </thead>\n",
       "  <tbody>\n",
       "    <tr>\n",
       "      <th>0</th>\n",
       "      <td>2.959060</td>\n",
       "      <td>3.079885</td>\n",
       "      <td>8.381025</td>\n",
       "      <td>9.780754</td>\n",
       "      <td>3.763085</td>\n",
       "      <td>-0.782604</td>\n",
       "      <td>-1.257395</td>\n",
       "      <td>-1.723086</td>\n",
       "      <td>0.650456</td>\n",
       "      <td>0.859578</td>\n",
       "      <td>0.887445</td>\n",
       "      <td>0.958034</td>\n",
       "      <td>unstable</td>\n",
       "    </tr>\n",
       "    <tr>\n",
       "      <th>1</th>\n",
       "      <td>9.304097</td>\n",
       "      <td>4.902524</td>\n",
       "      <td>3.047541</td>\n",
       "      <td>1.369357</td>\n",
       "      <td>5.067812</td>\n",
       "      <td>-1.940058</td>\n",
       "      <td>-1.872742</td>\n",
       "      <td>-1.255012</td>\n",
       "      <td>0.413441</td>\n",
       "      <td>0.862414</td>\n",
       "      <td>0.562139</td>\n",
       "      <td>0.781760</td>\n",
       "      <td>stable</td>\n",
       "    </tr>\n",
       "    <tr>\n",
       "      <th>2</th>\n",
       "      <td>8.971707</td>\n",
       "      <td>8.848428</td>\n",
       "      <td>3.046479</td>\n",
       "      <td>1.214518</td>\n",
       "      <td>3.405158</td>\n",
       "      <td>-1.207456</td>\n",
       "      <td>-1.277210</td>\n",
       "      <td>-0.920492</td>\n",
       "      <td>0.163041</td>\n",
       "      <td>0.766689</td>\n",
       "      <td>0.839444</td>\n",
       "      <td>0.109853</td>\n",
       "      <td>unstable</td>\n",
       "    </tr>\n",
       "    <tr>\n",
       "      <th>3</th>\n",
       "      <td>0.716415</td>\n",
       "      <td>7.669600</td>\n",
       "      <td>4.486641</td>\n",
       "      <td>2.340563</td>\n",
       "      <td>3.963791</td>\n",
       "      <td>-1.027473</td>\n",
       "      <td>-1.938944</td>\n",
       "      <td>-0.997374</td>\n",
       "      <td>0.446209</td>\n",
       "      <td>0.976744</td>\n",
       "      <td>0.929381</td>\n",
       "      <td>0.362718</td>\n",
       "      <td>unstable</td>\n",
       "    </tr>\n",
       "    <tr>\n",
       "      <th>4</th>\n",
       "      <td>3.134112</td>\n",
       "      <td>7.608772</td>\n",
       "      <td>4.943759</td>\n",
       "      <td>9.857573</td>\n",
       "      <td>3.525811</td>\n",
       "      <td>-1.125531</td>\n",
       "      <td>-1.845975</td>\n",
       "      <td>-0.554305</td>\n",
       "      <td>0.797110</td>\n",
       "      <td>0.455450</td>\n",
       "      <td>0.656947</td>\n",
       "      <td>0.820923</td>\n",
       "      <td>unstable</td>\n",
       "    </tr>\n",
       "  </tbody>\n",
       "</table>\n",
       "</div>"
      ],
      "text/plain": [
       "       tau1      tau2      tau3      tau4        p1        p2        p3  \\\n",
       "0  2.959060  3.079885  8.381025  9.780754  3.763085 -0.782604 -1.257395   \n",
       "1  9.304097  4.902524  3.047541  1.369357  5.067812 -1.940058 -1.872742   \n",
       "2  8.971707  8.848428  3.046479  1.214518  3.405158 -1.207456 -1.277210   \n",
       "3  0.716415  7.669600  4.486641  2.340563  3.963791 -1.027473 -1.938944   \n",
       "4  3.134112  7.608772  4.943759  9.857573  3.525811 -1.125531 -1.845975   \n",
       "\n",
       "         p4        g1        g2        g3        g4     stabf  \n",
       "0 -1.723086  0.650456  0.859578  0.887445  0.958034  unstable  \n",
       "1 -1.255012  0.413441  0.862414  0.562139  0.781760    stable  \n",
       "2 -0.920492  0.163041  0.766689  0.839444  0.109853  unstable  \n",
       "3 -0.997374  0.446209  0.976744  0.929381  0.362718  unstable  \n",
       "4 -0.554305  0.797110  0.455450  0.656947  0.820923  unstable  "
      ]
     },
     "execution_count": 6,
     "metadata": {},
     "output_type": "execute_result"
    }
   ],
   "source": [
    "grid_df.head()"
   ]
  },
  {
   "cell_type": "code",
   "execution_count": 7,
   "id": "f3346b63",
   "metadata": {},
   "outputs": [],
   "source": [
    "grid_df[\"stabf\"].replace({\"unstable\": 0, \"stable\": 1}, inplace=True)"
   ]
  },
  {
   "cell_type": "markdown",
   "id": "0f1cf403",
   "metadata": {},
   "source": [
    "Unstable as 0, Stable as 1"
   ]
  },
  {
   "cell_type": "code",
   "execution_count": 8,
   "id": "05a29374",
   "metadata": {},
   "outputs": [
    {
     "data": {
      "text/html": [
       "<div>\n",
       "<style scoped>\n",
       "    .dataframe tbody tr th:only-of-type {\n",
       "        vertical-align: middle;\n",
       "    }\n",
       "\n",
       "    .dataframe tbody tr th {\n",
       "        vertical-align: top;\n",
       "    }\n",
       "\n",
       "    .dataframe thead th {\n",
       "        text-align: right;\n",
       "    }\n",
       "</style>\n",
       "<table border=\"1\" class=\"dataframe\">\n",
       "  <thead>\n",
       "    <tr style=\"text-align: right;\">\n",
       "      <th></th>\n",
       "      <th>tau1</th>\n",
       "      <th>tau2</th>\n",
       "      <th>tau3</th>\n",
       "      <th>tau4</th>\n",
       "      <th>p1</th>\n",
       "      <th>p2</th>\n",
       "      <th>p3</th>\n",
       "      <th>p4</th>\n",
       "      <th>g1</th>\n",
       "      <th>g2</th>\n",
       "      <th>g3</th>\n",
       "      <th>g4</th>\n",
       "      <th>stabf</th>\n",
       "    </tr>\n",
       "  </thead>\n",
       "  <tbody>\n",
       "    <tr>\n",
       "      <th>0</th>\n",
       "      <td>2.959060</td>\n",
       "      <td>3.079885</td>\n",
       "      <td>8.381025</td>\n",
       "      <td>9.780754</td>\n",
       "      <td>3.763085</td>\n",
       "      <td>-0.782604</td>\n",
       "      <td>-1.257395</td>\n",
       "      <td>-1.723086</td>\n",
       "      <td>0.650456</td>\n",
       "      <td>0.859578</td>\n",
       "      <td>0.887445</td>\n",
       "      <td>0.958034</td>\n",
       "      <td>0</td>\n",
       "    </tr>\n",
       "    <tr>\n",
       "      <th>1</th>\n",
       "      <td>9.304097</td>\n",
       "      <td>4.902524</td>\n",
       "      <td>3.047541</td>\n",
       "      <td>1.369357</td>\n",
       "      <td>5.067812</td>\n",
       "      <td>-1.940058</td>\n",
       "      <td>-1.872742</td>\n",
       "      <td>-1.255012</td>\n",
       "      <td>0.413441</td>\n",
       "      <td>0.862414</td>\n",
       "      <td>0.562139</td>\n",
       "      <td>0.781760</td>\n",
       "      <td>1</td>\n",
       "    </tr>\n",
       "    <tr>\n",
       "      <th>2</th>\n",
       "      <td>8.971707</td>\n",
       "      <td>8.848428</td>\n",
       "      <td>3.046479</td>\n",
       "      <td>1.214518</td>\n",
       "      <td>3.405158</td>\n",
       "      <td>-1.207456</td>\n",
       "      <td>-1.277210</td>\n",
       "      <td>-0.920492</td>\n",
       "      <td>0.163041</td>\n",
       "      <td>0.766689</td>\n",
       "      <td>0.839444</td>\n",
       "      <td>0.109853</td>\n",
       "      <td>0</td>\n",
       "    </tr>\n",
       "    <tr>\n",
       "      <th>3</th>\n",
       "      <td>0.716415</td>\n",
       "      <td>7.669600</td>\n",
       "      <td>4.486641</td>\n",
       "      <td>2.340563</td>\n",
       "      <td>3.963791</td>\n",
       "      <td>-1.027473</td>\n",
       "      <td>-1.938944</td>\n",
       "      <td>-0.997374</td>\n",
       "      <td>0.446209</td>\n",
       "      <td>0.976744</td>\n",
       "      <td>0.929381</td>\n",
       "      <td>0.362718</td>\n",
       "      <td>0</td>\n",
       "    </tr>\n",
       "    <tr>\n",
       "      <th>4</th>\n",
       "      <td>3.134112</td>\n",
       "      <td>7.608772</td>\n",
       "      <td>4.943759</td>\n",
       "      <td>9.857573</td>\n",
       "      <td>3.525811</td>\n",
       "      <td>-1.125531</td>\n",
       "      <td>-1.845975</td>\n",
       "      <td>-0.554305</td>\n",
       "      <td>0.797110</td>\n",
       "      <td>0.455450</td>\n",
       "      <td>0.656947</td>\n",
       "      <td>0.820923</td>\n",
       "      <td>0</td>\n",
       "    </tr>\n",
       "  </tbody>\n",
       "</table>\n",
       "</div>"
      ],
      "text/plain": [
       "       tau1      tau2      tau3      tau4        p1        p2        p3  \\\n",
       "0  2.959060  3.079885  8.381025  9.780754  3.763085 -0.782604 -1.257395   \n",
       "1  9.304097  4.902524  3.047541  1.369357  5.067812 -1.940058 -1.872742   \n",
       "2  8.971707  8.848428  3.046479  1.214518  3.405158 -1.207456 -1.277210   \n",
       "3  0.716415  7.669600  4.486641  2.340563  3.963791 -1.027473 -1.938944   \n",
       "4  3.134112  7.608772  4.943759  9.857573  3.525811 -1.125531 -1.845975   \n",
       "\n",
       "         p4        g1        g2        g3        g4  stabf  \n",
       "0 -1.723086  0.650456  0.859578  0.887445  0.958034      0  \n",
       "1 -1.255012  0.413441  0.862414  0.562139  0.781760      1  \n",
       "2 -0.920492  0.163041  0.766689  0.839444  0.109853      0  \n",
       "3 -0.997374  0.446209  0.976744  0.929381  0.362718      0  \n",
       "4 -0.554305  0.797110  0.455450  0.656947  0.820923      0  "
      ]
     },
     "execution_count": 8,
     "metadata": {},
     "output_type": "execute_result"
    }
   ],
   "source": [
    "grid_df.head()"
   ]
  },
  {
   "cell_type": "code",
   "execution_count": 9,
   "id": "d566fcf5",
   "metadata": {},
   "outputs": [
    {
     "data": {
      "text/plain": [
       "0    6380\n",
       "1    3620\n",
       "Name: stabf, dtype: int64"
      ]
     },
     "execution_count": 9,
     "metadata": {},
     "output_type": "execute_result"
    }
   ],
   "source": [
    "grid_df[\"stabf\"].value_counts()"
   ]
  },
  {
   "cell_type": "code",
   "execution_count": 10,
   "id": "98b04c33",
   "metadata": {},
   "outputs": [],
   "source": [
    "X=grid_df.drop(['stabf'],axis=1)\n",
    "Y=grid_df['stabf']"
   ]
  },
  {
   "cell_type": "code",
   "execution_count": 11,
   "id": "25791d9f",
   "metadata": {},
   "outputs": [],
   "source": [
    "X_train,X_test,Y_train,Y_test=train_test_split(X,Y,test_size=0.20, random_state=1)"
   ]
  },
  {
   "cell_type": "code",
   "execution_count": 12,
   "id": "50ca8099",
   "metadata": {},
   "outputs": [
    {
     "data": {
      "text/html": [
       "<div>\n",
       "<style scoped>\n",
       "    .dataframe tbody tr th:only-of-type {\n",
       "        vertical-align: middle;\n",
       "    }\n",
       "\n",
       "    .dataframe tbody tr th {\n",
       "        vertical-align: top;\n",
       "    }\n",
       "\n",
       "    .dataframe thead th {\n",
       "        text-align: right;\n",
       "    }\n",
       "</style>\n",
       "<table border=\"1\" class=\"dataframe\">\n",
       "  <thead>\n",
       "    <tr style=\"text-align: right;\">\n",
       "      <th></th>\n",
       "      <th>tau1</th>\n",
       "      <th>tau2</th>\n",
       "      <th>tau3</th>\n",
       "      <th>tau4</th>\n",
       "      <th>p1</th>\n",
       "      <th>p2</th>\n",
       "      <th>p3</th>\n",
       "      <th>p4</th>\n",
       "      <th>g1</th>\n",
       "      <th>g2</th>\n",
       "      <th>g3</th>\n",
       "      <th>g4</th>\n",
       "    </tr>\n",
       "  </thead>\n",
       "  <tbody>\n",
       "    <tr>\n",
       "      <th>2694</th>\n",
       "      <td>6.255995</td>\n",
       "      <td>2.542401</td>\n",
       "      <td>7.024714</td>\n",
       "      <td>9.476518</td>\n",
       "      <td>3.529888</td>\n",
       "      <td>-1.224881</td>\n",
       "      <td>-0.688228</td>\n",
       "      <td>-1.616780</td>\n",
       "      <td>0.568221</td>\n",
       "      <td>0.618403</td>\n",
       "      <td>0.685739</td>\n",
       "      <td>0.660088</td>\n",
       "    </tr>\n",
       "    <tr>\n",
       "      <th>5140</th>\n",
       "      <td>5.070581</td>\n",
       "      <td>5.490253</td>\n",
       "      <td>8.075688</td>\n",
       "      <td>0.761075</td>\n",
       "      <td>4.220888</td>\n",
       "      <td>-1.280596</td>\n",
       "      <td>-1.902185</td>\n",
       "      <td>-1.038107</td>\n",
       "      <td>0.443515</td>\n",
       "      <td>0.097244</td>\n",
       "      <td>0.916955</td>\n",
       "      <td>0.129254</td>\n",
       "    </tr>\n",
       "    <tr>\n",
       "      <th>2568</th>\n",
       "      <td>1.220072</td>\n",
       "      <td>8.804028</td>\n",
       "      <td>3.874283</td>\n",
       "      <td>8.433949</td>\n",
       "      <td>3.614027</td>\n",
       "      <td>-1.039236</td>\n",
       "      <td>-0.953566</td>\n",
       "      <td>-1.621224</td>\n",
       "      <td>0.908353</td>\n",
       "      <td>0.923594</td>\n",
       "      <td>0.238881</td>\n",
       "      <td>0.660156</td>\n",
       "    </tr>\n",
       "    <tr>\n",
       "      <th>3671</th>\n",
       "      <td>7.498402</td>\n",
       "      <td>6.697603</td>\n",
       "      <td>8.798626</td>\n",
       "      <td>2.126236</td>\n",
       "      <td>3.134585</td>\n",
       "      <td>-1.581906</td>\n",
       "      <td>-0.589386</td>\n",
       "      <td>-0.963293</td>\n",
       "      <td>0.260826</td>\n",
       "      <td>0.899003</td>\n",
       "      <td>0.964752</td>\n",
       "      <td>0.600598</td>\n",
       "    </tr>\n",
       "    <tr>\n",
       "      <th>7427</th>\n",
       "      <td>7.074006</td>\n",
       "      <td>1.337511</td>\n",
       "      <td>6.100756</td>\n",
       "      <td>7.759156</td>\n",
       "      <td>2.526922</td>\n",
       "      <td>-0.922540</td>\n",
       "      <td>-0.632600</td>\n",
       "      <td>-0.971782</td>\n",
       "      <td>0.984580</td>\n",
       "      <td>0.716082</td>\n",
       "      <td>0.836928</td>\n",
       "      <td>0.165162</td>\n",
       "    </tr>\n",
       "    <tr>\n",
       "      <th>...</th>\n",
       "      <td>...</td>\n",
       "      <td>...</td>\n",
       "      <td>...</td>\n",
       "      <td>...</td>\n",
       "      <td>...</td>\n",
       "      <td>...</td>\n",
       "      <td>...</td>\n",
       "      <td>...</td>\n",
       "      <td>...</td>\n",
       "      <td>...</td>\n",
       "      <td>...</td>\n",
       "      <td>...</td>\n",
       "    </tr>\n",
       "    <tr>\n",
       "      <th>2895</th>\n",
       "      <td>9.504984</td>\n",
       "      <td>5.265415</td>\n",
       "      <td>2.029617</td>\n",
       "      <td>8.026334</td>\n",
       "      <td>3.449756</td>\n",
       "      <td>-0.922754</td>\n",
       "      <td>-1.526305</td>\n",
       "      <td>-1.000696</td>\n",
       "      <td>0.191864</td>\n",
       "      <td>0.611297</td>\n",
       "      <td>0.080008</td>\n",
       "      <td>0.350312</td>\n",
       "    </tr>\n",
       "    <tr>\n",
       "      <th>7813</th>\n",
       "      <td>8.035818</td>\n",
       "      <td>4.632548</td>\n",
       "      <td>1.177810</td>\n",
       "      <td>1.204950</td>\n",
       "      <td>4.093208</td>\n",
       "      <td>-1.568218</td>\n",
       "      <td>-0.819966</td>\n",
       "      <td>-1.705024</td>\n",
       "      <td>0.223384</td>\n",
       "      <td>0.317770</td>\n",
       "      <td>0.726623</td>\n",
       "      <td>0.441620</td>\n",
       "    </tr>\n",
       "    <tr>\n",
       "      <th>905</th>\n",
       "      <td>7.052560</td>\n",
       "      <td>3.264057</td>\n",
       "      <td>1.405949</td>\n",
       "      <td>4.497549</td>\n",
       "      <td>3.741358</td>\n",
       "      <td>-0.629026</td>\n",
       "      <td>-1.407945</td>\n",
       "      <td>-1.704387</td>\n",
       "      <td>0.868306</td>\n",
       "      <td>0.605566</td>\n",
       "      <td>0.100591</td>\n",
       "      <td>0.747320</td>\n",
       "    </tr>\n",
       "    <tr>\n",
       "      <th>5192</th>\n",
       "      <td>5.085242</td>\n",
       "      <td>1.790031</td>\n",
       "      <td>2.486392</td>\n",
       "      <td>2.848192</td>\n",
       "      <td>3.159670</td>\n",
       "      <td>-0.892898</td>\n",
       "      <td>-1.025461</td>\n",
       "      <td>-1.241311</td>\n",
       "      <td>0.473917</td>\n",
       "      <td>0.418512</td>\n",
       "      <td>0.326253</td>\n",
       "      <td>0.982488</td>\n",
       "    </tr>\n",
       "    <tr>\n",
       "      <th>235</th>\n",
       "      <td>1.205354</td>\n",
       "      <td>6.995045</td>\n",
       "      <td>5.930860</td>\n",
       "      <td>2.523856</td>\n",
       "      <td>5.230127</td>\n",
       "      <td>-1.755047</td>\n",
       "      <td>-1.567927</td>\n",
       "      <td>-1.907153</td>\n",
       "      <td>0.861961</td>\n",
       "      <td>0.202768</td>\n",
       "      <td>0.848373</td>\n",
       "      <td>0.739993</td>\n",
       "    </tr>\n",
       "  </tbody>\n",
       "</table>\n",
       "<p>8000 rows × 12 columns</p>\n",
       "</div>"
      ],
      "text/plain": [
       "          tau1      tau2      tau3      tau4        p1        p2        p3  \\\n",
       "2694  6.255995  2.542401  7.024714  9.476518  3.529888 -1.224881 -0.688228   \n",
       "5140  5.070581  5.490253  8.075688  0.761075  4.220888 -1.280596 -1.902185   \n",
       "2568  1.220072  8.804028  3.874283  8.433949  3.614027 -1.039236 -0.953566   \n",
       "3671  7.498402  6.697603  8.798626  2.126236  3.134585 -1.581906 -0.589386   \n",
       "7427  7.074006  1.337511  6.100756  7.759156  2.526922 -0.922540 -0.632600   \n",
       "...        ...       ...       ...       ...       ...       ...       ...   \n",
       "2895  9.504984  5.265415  2.029617  8.026334  3.449756 -0.922754 -1.526305   \n",
       "7813  8.035818  4.632548  1.177810  1.204950  4.093208 -1.568218 -0.819966   \n",
       "905   7.052560  3.264057  1.405949  4.497549  3.741358 -0.629026 -1.407945   \n",
       "5192  5.085242  1.790031  2.486392  2.848192  3.159670 -0.892898 -1.025461   \n",
       "235   1.205354  6.995045  5.930860  2.523856  5.230127 -1.755047 -1.567927   \n",
       "\n",
       "            p4        g1        g2        g3        g4  \n",
       "2694 -1.616780  0.568221  0.618403  0.685739  0.660088  \n",
       "5140 -1.038107  0.443515  0.097244  0.916955  0.129254  \n",
       "2568 -1.621224  0.908353  0.923594  0.238881  0.660156  \n",
       "3671 -0.963293  0.260826  0.899003  0.964752  0.600598  \n",
       "7427 -0.971782  0.984580  0.716082  0.836928  0.165162  \n",
       "...        ...       ...       ...       ...       ...  \n",
       "2895 -1.000696  0.191864  0.611297  0.080008  0.350312  \n",
       "7813 -1.705024  0.223384  0.317770  0.726623  0.441620  \n",
       "905  -1.704387  0.868306  0.605566  0.100591  0.747320  \n",
       "5192 -1.241311  0.473917  0.418512  0.326253  0.982488  \n",
       "235  -1.907153  0.861961  0.202768  0.848373  0.739993  \n",
       "\n",
       "[8000 rows x 12 columns]"
      ]
     },
     "execution_count": 12,
     "metadata": {},
     "output_type": "execute_result"
    }
   ],
   "source": [
    "X_train"
   ]
  },
  {
   "cell_type": "code",
   "execution_count": 13,
   "id": "10db9bee",
   "metadata": {},
   "outputs": [
    {
     "data": {
      "text/plain": [
       "2694    0\n",
       "5140    0\n",
       "2568    0\n",
       "3671    0\n",
       "7427    0\n",
       "       ..\n",
       "2895    1\n",
       "7813    1\n",
       "905     0\n",
       "5192    0\n",
       "235     1\n",
       "Name: stabf, Length: 8000, dtype: int64"
      ]
     },
     "execution_count": 13,
     "metadata": {},
     "output_type": "execute_result"
    }
   ],
   "source": [
    "Y_train"
   ]
  },
  {
   "cell_type": "code",
   "execution_count": 14,
   "id": "ade187e9",
   "metadata": {},
   "outputs": [
    {
     "data": {
      "text/plain": [
       "array([[ 0.36732671, -0.98604156,  0.65044706, ...,  0.33985949,\n",
       "         0.58556788,  0.49223946],\n",
       "       [-0.06465869,  0.08943734,  1.03507899, ..., -1.5584875 ,\n",
       "         1.42964862, -1.44352101],\n",
       "       [-1.46785   ,  1.29841758, -0.50253617, ...,  1.45153362,\n",
       "        -1.04574277,  0.49248925],\n",
       "       ...,\n",
       "       [ 0.65760851, -0.72275633, -1.4058879 , ...,  0.29310048,\n",
       "        -1.55058661,  0.81034412],\n",
       "       [-0.05931596, -1.26053241, -1.01047147, ..., -0.38825455,\n",
       "        -0.72678059,  1.66791568],\n",
       "       [-1.47321368,  0.63843757,  0.25012249, ..., -1.17410957,\n",
       "         1.179282  ,  0.78362657]])"
      ]
     },
     "execution_count": 14,
     "metadata": {},
     "output_type": "execute_result"
    }
   ],
   "source": [
    "from sklearn.preprocessing import StandardScaler\n",
    "scaler = StandardScaler()\n",
    "scaler.fit_transform(X_train)\n"
   ]
  },
  {
   "cell_type": "code",
   "execution_count": 15,
   "id": "c0f84e69",
   "metadata": {},
   "outputs": [
    {
     "data": {
      "text/plain": [
       "array([[ 0.59216281, -0.42056489,  1.47247233, ...,  1.17528683,\n",
       "        -1.49264423,  1.08629139],\n",
       "       [ 0.19918339,  0.36454311, -0.19007599, ..., -0.39594869,\n",
       "         1.41270302,  1.2275355 ],\n",
       "       [-1.08603505, -0.32183365, -0.87350524, ..., -1.44437004,\n",
       "         0.65421559, -1.67979856],\n",
       "       ...,\n",
       "       [ 0.94713772, -1.66831304, -1.62907667, ...,  0.12889933,\n",
       "         0.57628587,  1.32084757],\n",
       "       [-1.12735376,  0.18457336, -0.23820702, ...,  0.80017191,\n",
       "        -1.3484627 , -0.79985771],\n",
       "       [-1.38555998,  1.49904306,  0.27297057, ..., -0.92058109,\n",
       "         0.00903865,  1.19055888]])"
      ]
     },
     "execution_count": 15,
     "metadata": {},
     "output_type": "execute_result"
    }
   ],
   "source": [
    "from sklearn.preprocessing import StandardScaler\n",
    "scaler = StandardScaler()\n",
    "scaler.fit_transform(X_test)"
   ]
  },
  {
   "cell_type": "code",
   "execution_count": 16,
   "id": "0da965b4",
   "metadata": {},
   "outputs": [
    {
     "name": "stdout",
     "output_type": "stream",
     "text": [
      "              precision    recall  f1-score   support\n",
      "\n",
      "           0       0.93      0.96      0.95      1288\n",
      "           1       0.93      0.87      0.90       712\n",
      "\n",
      "    accuracy                           0.93      2000\n",
      "   macro avg       0.93      0.92      0.92      2000\n",
      "weighted avg       0.93      0.93      0.93      2000\n",
      "\n"
     ]
    }
   ],
   "source": [
    "RFC = RandomForestClassifier(random_state=1)\n",
    "RFCmodel=RFC.fit(X_train,Y_train)\n",
    "y_pred=RFCmodel.predict(X_test)\n",
    "print(classification_report(Y_test,y_pred))"
   ]
  },
  {
   "cell_type": "code",
   "execution_count": 17,
   "id": "f9128253",
   "metadata": {},
   "outputs": [
    {
     "data": {
      "text/plain": [
       "0.9295"
      ]
     },
     "execution_count": 17,
     "metadata": {},
     "output_type": "execute_result"
    }
   ],
   "source": [
    "from sklearn.metrics import accuracy_score\n",
    "accuracy_score(Y_test,y_pred)"
   ]
  },
  {
   "cell_type": "code",
   "execution_count": 18,
   "id": "8f2cf382",
   "metadata": {},
   "outputs": [],
   "source": [
    "from sklearn.ensemble import ExtraTreesClassifier"
   ]
  },
  {
   "cell_type": "code",
   "execution_count": 19,
   "id": "606ce725",
   "metadata": {},
   "outputs": [
    {
     "name": "stdout",
     "output_type": "stream",
     "text": [
      "              precision    recall  f1-score   support\n",
      "\n",
      "           0       0.91      0.98      0.94      1288\n",
      "           1       0.96      0.82      0.88       712\n",
      "\n",
      "    accuracy                           0.92      2000\n",
      "   macro avg       0.93      0.90      0.91      2000\n",
      "weighted avg       0.92      0.92      0.92      2000\n",
      "\n"
     ]
    }
   ],
   "source": [
    "ETC = ExtraTreesClassifier()\n",
    "ETCmodel=ETC.fit(X_train,Y_train)\n",
    "y_pred=ETCmodel.predict(X_test)\n",
    "print(classification_report(Y_test,y_pred))"
   ]
  },
  {
   "cell_type": "code",
   "execution_count": 20,
   "id": "3a85f043",
   "metadata": {},
   "outputs": [],
   "source": [
    "from sklearn.model_selection import RandomizedSearchCV"
   ]
  },
  {
   "cell_type": "code",
   "execution_count": 21,
   "id": "2796efe1",
   "metadata": {},
   "outputs": [],
   "source": [
    "ETC = ExtraTreesClassifier( random_state = 1)"
   ]
  },
  {
   "cell_type": "code",
   "execution_count": 22,
   "id": "819024b9",
   "metadata": {},
   "outputs": [],
   "source": [
    "ETCmodel=ETC.fit(X_train,Y_train)"
   ]
  },
  {
   "cell_type": "code",
   "execution_count": 23,
   "id": "343f075a",
   "metadata": {},
   "outputs": [],
   "source": [
    "model_params = {\n",
    "    # randomly sample numbers from 4 to 204 estimators\n",
    "    'n_estimators': (4,8,100,200),\n",
    "    # normally distributed max_features, with mean .25 stddev 0.1, bounded between 0 and 1\n",
    "    \n",
    "    #\n",
    "    'min_samples_split': (0.01, 0.199,.4,.7)\n",
    "}"
   ]
  },
  {
   "cell_type": "code",
   "execution_count": 24,
   "id": "bc1c29ba",
   "metadata": {},
   "outputs": [],
   "source": [
    "cv=RandomizedSearchCV(estimator=ETCmodel,param_distributions=model_params,  random_state = 1 )"
   ]
  },
  {
   "cell_type": "code",
   "execution_count": 25,
   "id": "3e9dc58a",
   "metadata": {},
   "outputs": [],
   "source": [
    "cvs=cv.fit(X_train,Y_train)"
   ]
  },
  {
   "cell_type": "code",
   "execution_count": 26,
   "id": "78695cf1",
   "metadata": {},
   "outputs": [
    {
     "name": "stdout",
     "output_type": "stream",
     "text": [
      "              precision    recall  f1-score   support\n",
      "\n",
      "           0       0.86      0.99      0.92      1288\n",
      "           1       0.97      0.71      0.82       712\n",
      "\n",
      "    accuracy                           0.89      2000\n",
      "   macro avg       0.92      0.85      0.87      2000\n",
      "weighted avg       0.90      0.89      0.88      2000\n",
      "\n"
     ]
    }
   ],
   "source": [
    "y_pred=cvs.predict(X_test)\n",
    "print(classification_report(Y_test,y_pred))"
   ]
  },
  {
   "cell_type": "code",
   "execution_count": 27,
   "id": "693abf45",
   "metadata": {},
   "outputs": [
    {
     "name": "stdout",
     "output_type": "stream",
     "text": [
      "Feature: 0, Score: 0.11740\n",
      "Feature: 1, Score: 0.11844\n",
      "Feature: 2, Score: 0.11317\n",
      "Feature: 3, Score: 0.11547\n",
      "Feature: 4, Score: 0.03951\n",
      "Feature: 5, Score: 0.04037\n",
      "Feature: 6, Score: 0.04071\n",
      "Feature: 7, Score: 0.04058\n",
      "Feature: 8, Score: 0.08978\n",
      "Feature: 9, Score: 0.09368\n",
      "Feature: 10, Score: 0.09688\n",
      "Feature: 11, Score: 0.09402\n"
     ]
    },
    {
     "data": {
      "image/png": "[encoded data removed]",
      "text/plain": [
       "<Figure size 432x288 with 1 Axes>"
      ]
     },
     "metadata": {
      "needs_background": "light"
     },
     "output_type": "display_data"
    }
   ],
   "source": [
    "importance = ETCmodel.feature_importances_\n",
    "# summarize feature importance\n",
    "for i,v in enumerate(importance):\n",
    "\tprint('Feature: %0d, Score: %.5f' % (i,v))\n",
    "# plot feature importance\n",
    "plt.bar([x for x in range(len(importance))], importance)\n",
    "plt.show()"
   ]
  },
  {
   "cell_type": "code",
   "execution_count": 29,
   "id": "6a0650ba",
   "metadata": {},
   "outputs": [],
   "source": [
    "from xgboost import XGBClassifier\n"
   ]
  },
  {
   "cell_type": "code",
   "execution_count": 30,
   "id": "aa54122f",
   "metadata": {},
   "outputs": [
    {
     "name": "stderr",
     "output_type": "stream",
     "text": [
      "C:\\Users\\shilp\\anaconda3\\envs\\symbihello\\lib\\site-packages\\xgboost\\sklearn.py:1224: UserWarning: The use of label encoder in XGBClassifier is deprecated and will be removed in a future release. To remove this warning, do the following: 1) Pass option use_label_encoder=False when constructing XGBClassifier object; and 2) Encode your labels (y) as integers starting with 0, i.e. 0, 1, 2, ..., [num_class - 1].\n",
      "  warnings.warn(label_encoder_deprecation_msg, UserWarning)\n"
     ]
    },
    {
     "name": "stdout",
     "output_type": "stream",
     "text": [
      "[22:34:53] WARNING: C:/Users/Administrator/workspace/xgboost-win64_release_1.5.1/src/learner.cc:1115: Starting in XGBoost 1.3.0, the default evaluation metric used with the objective 'binary:logistic' was changed from 'error' to 'logloss'. Explicitly set eval_metric if you'd like to restore the old behavior.\n",
      "              precision    recall  f1-score   support\n",
      "\n",
      "           0       0.95      0.97      0.96      1288\n",
      "           1       0.94      0.91      0.92       712\n",
      "\n",
      "    accuracy                           0.95      2000\n",
      "   macro avg       0.94      0.94      0.94      2000\n",
      "weighted avg       0.95      0.95      0.95      2000\n",
      "\n"
     ]
    }
   ],
   "source": [
    "XGB = XGBClassifier(random_state=1)\n",
    "XGBmodel=XGB.fit(X_train,Y_train)\n",
    "y_pred=XGBmodel.predict(X_test)\n",
    "print(classification_report(Y_test,y_pred))"
   ]
  },
  {
   "cell_type": "code",
   "execution_count": 31,
   "id": "5f5e6d81",
   "metadata": {},
   "outputs": [
    {
     "data": {
      "text/plain": [
       "0.9455"
      ]
     },
     "execution_count": 31,
     "metadata": {},
     "output_type": "execute_result"
    }
   ],
   "source": [
    "from sklearn.metrics import accuracy_score\n",
    "accuracy_score(Y_test,y_pred)"
   ]
  },
  {
   "cell_type": "code",
   "execution_count": 32,
   "id": "008d5648",
   "metadata": {},
   "outputs": [
    {
     "name": "stdout",
     "output_type": "stream",
     "text": [
      "              precision    recall  f1-score   support\n",
      "\n",
      "           0       0.95      0.97      0.96      1288\n",
      "           1       0.94      0.91      0.92       712\n",
      "\n",
      "    accuracy                           0.95      2000\n",
      "   macro avg       0.94      0.94      0.94      2000\n",
      "weighted avg       0.95      0.95      0.95      2000\n",
      "\n"
     ]
    }
   ],
   "source": [
    "model = lgb.LGBMClassifier(random_state=1)\n",
    "model.fit(X_train,Y_train)\n",
    "y_pred=XGBmodel.predict(X_test)\n",
    "print(classification_report(Y_test,y_pred))"
   ]
  },
  {
   "cell_type": "code",
   "execution_count": 33,
   "id": "382ff41c",
   "metadata": {},
   "outputs": [
    {
     "data": {
      "text/plain": [
       "0.9455"
      ]
     },
     "execution_count": 33,
     "metadata": {},
     "output_type": "execute_result"
    }
   ],
   "source": [
    "from sklearn.metrics import accuracy_score\n",
    "accuracy_score(Y_test,y_pred)"
   ]
  },
  {
   "cell_type": "code",
   "execution_count": null,
   "id": "e492bfcf",
   "metadata": {},
   "outputs": [],
   "source": []
  }
 ],
 "metadata": {
  "kernelspec": {
   "display_name": "Python 3 (ipykernel)",
   "language": "python",
   "name": "python3"
  },
  "language_info": {
   "codemirror_mode": {
    "name": "ipython",
    "version": 3
   },
   "file_extension": ".py",
   "mimetype": "text/x-python",
   "name": "python",
   "nbconvert_exporter": "python",
   "pygments_lexer": "ipython3",
   "version": "3.9.7"
  }
 },
 "nbformat": 4,
 "nbformat_minor": 5
}
